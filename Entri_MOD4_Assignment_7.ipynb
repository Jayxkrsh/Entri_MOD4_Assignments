{
 "cells": [
  {
   "cell_type": "markdown",
   "id": "4f70e8c0-5453-4509-a876-eb156cd96ec4",
   "metadata": {},
   "source": [
    "# Entri_Assignment_7"
   ]
  },
  {
   "cell_type": "code",
   "execution_count": 12,
   "id": "760f8075-50b4-407b-8235-646344639153",
   "metadata": {},
   "outputs": [],
   "source": [
    "import numpy as np\n",
    "import pandas as pd"
   ]
  },
  {
   "cell_type": "code",
   "execution_count": 8,
   "id": "55749ead-08e4-4cf6-bddf-a37997e6f434",
   "metadata": {},
   "outputs": [
    {
     "name": "stdout",
     "output_type": "stream",
     "text": [
      "[[ 1  2  3  4  5]\n",
      " [ 6  7  8  9 10]]\n"
     ]
    }
   ],
   "source": [
    "# Create a numpy array containing the numbers from 1 to 10, and then reshape it to a 2x5 matrix.\n",
    "array = np.arange(1,11)\n",
    "array\n",
    "array1 = array.reshape(2,5)\n",
    "print(array1)"
   ]
  },
  {
   "cell_type": "code",
   "execution_count": 10,
   "id": "c308622e-f73a-4ea0-bab3-c315341cdeb7",
   "metadata": {},
   "outputs": [
    {
     "name": "stdout",
     "output_type": "stream",
     "text": [
      "[ 6  7  8  9 10 11 12 13 14 15]\n"
     ]
    }
   ],
   "source": [
    "# Create a numpy array containing the numbers from 1 to 20, and then extract the elements between the 5th and 15th index.\n",
    "x = np.arange(1,21)\n",
    "extracted_elements = x[5:15]\n",
    "print(extracted_elements)"
   ]
  },
  {
   "cell_type": "code",
   "execution_count": 16,
   "id": "8538dee0-df35-4314-b78a-60ff3f3c7748",
   "metadata": {},
   "outputs": [
    {
     "name": "stdout",
     "output_type": "stream",
     "text": [
      "apples     3\n",
      "bananas    2\n",
      "oranges    1\n",
      "pears      4\n",
      "dtype: int64\n"
     ]
    }
   ],
   "source": [
    "# Create a Pandas series with the following data: {'apples': 3, 'bananas': 2, 'oranges': 1}. Then, add a new item to the series with the key 'pears' and the value 4.\n",
    "data = {'apples': 3, 'bananas': 2, 'oranges': 1}\n",
    "series  = pd.Series(data)\n",
    "series['pears']=4\n",
    "print(series)"
   ]
  },
  {
   "cell_type": "code",
   "execution_count": 18,
   "id": "c7ed6608-5115-49e8-8901-286fcdb4773c",
   "metadata": {},
   "outputs": [
    {
     "name": "stdout",
     "output_type": "stream",
     "text": [
      "      name  age  gender\n",
      "0    Alice   25  Female\n",
      "1      Bob   30    Male\n",
      "2  Charlie   22    Male\n",
      "3    David   28    Male\n",
      "4     Ella   26  Female\n",
      "5    Frank   29    Male\n",
      "6    Grace   31  Female\n",
      "7   Hannah   27  Female\n",
      "8      Ian   24    Male\n",
      "9     Jack   23    Male\n"
     ]
    }
   ],
   "source": [
    "# Create a dataframe with the following columns: name, age, and gender. The dataframe should have 10 rows of data.\n",
    "data = {\n",
    "    'name': ['Alice', 'Bob', 'Charlie', 'David', 'Ella', 'Frank', 'Grace', 'Hannah', 'Ian', 'Jack'],\n",
    "    'age': [25, 30, 22, 28, 26, 29, 31, 27, 24, 23],\n",
    "    'gender': ['Female', 'Male', 'Male', 'Male', 'Female', 'Male', 'Female', 'Female', 'Male', 'Male']\n",
    "}\n",
    "df = pd.DataFrame(data)\n",
    "print(df)"
   ]
  },
  {
   "cell_type": "code",
   "execution_count": 20,
   "id": "d33f8a78-9405-44a1-a4c8-db88a5e54750",
   "metadata": {},
   "outputs": [
    {
     "name": "stdout",
     "output_type": "stream",
     "text": [
      "      name  age  gender  occupation\n",
      "0    Alice   25  Female  Programmer\n",
      "1      Bob   30    Male     Manager\n",
      "2  Charlie   22    Male     Analyst\n",
      "3    David   28    Male  Programmer\n",
      "4     Ella   26  Female     Manager\n",
      "5    Frank   29    Male     Analyst\n",
      "6    Grace   31  Female  Programmer\n",
      "7   Hannah   27  Female     Manager\n",
      "8      Ian   24    Male     Analyst\n",
      "9     Jack   23    Male  Programmer\n"
     ]
    }
   ],
   "source": [
    "# Add a new column to the data frame created in question 1, called occupation. The values for this column should be Programmer, Manager, and Analyst, corresponding to the rows in the dataframe.\n",
    "occupations = ['Programmer', 'Manager', 'Analyst', 'Programmer', 'Manager', \n",
    "               'Analyst', 'Programmer', 'Manager', 'Analyst', 'Programmer']\n",
    "df['occupation'] = occupations\n",
    "print(df)\n"
   ]
  },
  {
   "cell_type": "code",
   "execution_count": 22,
   "id": "971e4b9e-7ec5-4876-a217-2b9e2b9176ef",
   "metadata": {},
   "outputs": [
    {
     "name": "stdout",
     "output_type": "stream",
     "text": [
      "    name  age  gender  occupation\n",
      "1    Bob   30    Male     Manager\n",
      "6  Grace   31  Female  Programmer\n"
     ]
    }
   ],
   "source": [
    "# Select the rows of the dataframe where the age is greater than or equal to 30\n",
    "filtered_df = df[df['age'] >= 30]\n",
    "print(filtered_df)"
   ]
  },
  {
   "cell_type": "code",
   "execution_count": 24,
   "id": "bd6aa2a5-c1e1-40f5-81ae-9b89b21987a7",
   "metadata": {},
   "outputs": [
    {
     "name": "stdout",
     "output_type": "stream",
     "text": [
      "      name  age  gender  occupation\n",
      "0    Alice   25  Female  Programmer\n",
      "1      Bob   30    Male     Manager\n",
      "2  Charlie   22    Male     Analyst\n",
      "3    David   28    Male  Programmer\n",
      "4     Ella   26  Female     Manager\n",
      "5    Frank   29    Male     Analyst\n",
      "6    Grace   31  Female  Programmer\n",
      "7   Hannah   27  Female     Manager\n",
      "8      Ian   24    Male     Analyst\n",
      "9     Jack   23    Male  Programmer\n"
     ]
    }
   ],
   "source": [
    "# Convert this dataframe to a csv file and read that csv file, finally display the contents.\n",
    "df.to_csv('dataframe.csv', index=False)\n",
    "# Read the CSV file into a new DataFrame\n",
    "new_df = pd.read_csv('dataframe.csv')\n",
    "print(new_df)\n"
   ]
  },
  {
   "cell_type": "code",
   "execution_count": null,
   "id": "6c6cf887-0d37-447b-be01-c87903932294",
   "metadata": {},
   "outputs": [],
   "source": []
  }
 ],
 "metadata": {
  "kernelspec": {
   "display_name": "Python [conda env:base] *",
   "language": "python",
   "name": "conda-base-py"
  },
  "language_info": {
   "codemirror_mode": {
    "name": "ipython",
    "version": 3
   },
   "file_extension": ".py",
   "mimetype": "text/x-python",
   "name": "python",
   "nbconvert_exporter": "python",
   "pygments_lexer": "ipython3",
   "version": "3.12.7"
  }
 },
 "nbformat": 4,
 "nbformat_minor": 5
}
